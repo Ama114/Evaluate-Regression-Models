{
 "cells": [
  {
   "cell_type": "code",
   "execution_count": 1,
   "id": "fb07d657-d018-451f-8044-5856b03fbfa7",
   "metadata": {},
   "outputs": [],
   "source": [
    "import numpy as np\n",
    "import pandas as pd"
   ]
  },
  {
   "cell_type": "code",
   "execution_count": 24,
   "id": "eceea32e-9a21-4c27-ba5e-94e7dc273d6f",
   "metadata": {},
   "outputs": [],
   "source": [
    "df = pd.DataFrame({\n",
    "    'hours':[5,8,7,6,4.5,9.5,8,3.5,9,8,1,6],             # create hours and score columns\n",
    "    'score':[54,25,47,20,82,61,75,88,11,12,50,36]\n",
    "})"
   ]
  },
  {
   "cell_type": "code",
   "execution_count": 26,
   "id": "fa671a18-2ccf-4bd0-90d1-5f37017e0800",
   "metadata": {},
   "outputs": [
    {
     "data": {
      "text/html": [
       "<div>\n",
       "<style scoped>\n",
       "    .dataframe tbody tr th:only-of-type {\n",
       "        vertical-align: middle;\n",
       "    }\n",
       "\n",
       "    .dataframe tbody tr th {\n",
       "        vertical-align: top;\n",
       "    }\n",
       "\n",
       "    .dataframe thead th {\n",
       "        text-align: right;\n",
       "    }\n",
       "</style>\n",
       "<table border=\"1\" class=\"dataframe\">\n",
       "  <thead>\n",
       "    <tr style=\"text-align: right;\">\n",
       "      <th></th>\n",
       "      <th>hours</th>\n",
       "      <th>score</th>\n",
       "    </tr>\n",
       "  </thead>\n",
       "  <tbody>\n",
       "    <tr>\n",
       "      <th>0</th>\n",
       "      <td>5.0</td>\n",
       "      <td>54</td>\n",
       "    </tr>\n",
       "    <tr>\n",
       "      <th>1</th>\n",
       "      <td>8.0</td>\n",
       "      <td>25</td>\n",
       "    </tr>\n",
       "    <tr>\n",
       "      <th>2</th>\n",
       "      <td>7.0</td>\n",
       "      <td>47</td>\n",
       "    </tr>\n",
       "    <tr>\n",
       "      <th>3</th>\n",
       "      <td>6.0</td>\n",
       "      <td>20</td>\n",
       "    </tr>\n",
       "    <tr>\n",
       "      <th>4</th>\n",
       "      <td>4.5</td>\n",
       "      <td>82</td>\n",
       "    </tr>\n",
       "  </tbody>\n",
       "</table>\n",
       "</div>"
      ],
      "text/plain": [
       "   hours  score\n",
       "0    5.0     54\n",
       "1    8.0     25\n",
       "2    7.0     47\n",
       "3    6.0     20\n",
       "4    4.5     82"
      ]
     },
     "execution_count": 26,
     "metadata": {},
     "output_type": "execute_result"
    }
   ],
   "source": [
    "df.head()\n"
   ]
  },
  {
   "cell_type": "code",
   "execution_count": 28,
   "id": "17824e91-fb82-42b5-a6af-100d72a5b0b8",
   "metadata": {},
   "outputs": [],
   "source": [
    "y = np.array(df.score.values)     # actual values"
   ]
  },
  {
   "cell_type": "code",
   "execution_count": 30,
   "id": "f61a2ac7-cfa8-49b9-bf3e-ec4375e09bef",
   "metadata": {},
   "outputs": [],
   "source": [
    "y_pred = 8 * df.hours.values - 15"
   ]
  },
  {
   "cell_type": "code",
   "execution_count": 32,
   "id": "bacd5686-abb4-4424-a3fa-27bafec28e12",
   "metadata": {},
   "outputs": [
    {
     "data": {
      "text/plain": [
       "array([54, 25, 47, 20, 82, 61, 75, 88, 11, 12, 50, 36], dtype=int64)"
      ]
     },
     "execution_count": 32,
     "metadata": {},
     "output_type": "execute_result"
    }
   ],
   "source": [
    "y"
   ]
  },
  {
   "cell_type": "code",
   "execution_count": 34,
   "id": "6d704f34-5a70-4565-ab0f-db9bce41705a",
   "metadata": {},
   "outputs": [
    {
     "data": {
      "text/plain": [
       "array([25., 49., 41., 33., 21., 61., 49., 13., 57., 49., -7., 33.])"
      ]
     },
     "execution_count": 34,
     "metadata": {},
     "output_type": "execute_result"
    }
   ],
   "source": [
    "y_pred"
   ]
  },
  {
   "cell_type": "markdown",
   "id": "effc0190-f36e-4e55-ade0-a0294137e6d5",
   "metadata": {},
   "source": [
    "##  Mean Absolute Value(MAE)"
   ]
  },
  {
   "cell_type": "code",
   "execution_count": 43,
   "id": "0152d5fd-a645-488e-9997-4965d37e7a44",
   "metadata": {},
   "outputs": [
    {
     "name": "stdout",
     "output_type": "stream",
     "text": [
      "mean absolute error: 31.416666666666668\n"
     ]
    }
   ],
   "source": [
    "from sklearn.metrics import mean_absolute_error\n",
    "mae = mean_absolute_error(y,y_pred)\n",
    "print(f\"mean absolute error: {mae}\")"
   ]
  },
  {
   "cell_type": "markdown",
   "id": "b1c31651-aa37-4783-aeb3-5b8d2a23bc3d",
   "metadata": {},
   "source": [
    "### Root Mean Squard Error(RMSE)"
   ]
  },
  {
   "cell_type": "code",
   "execution_count": 46,
   "id": "f2946094-0b95-4b4e-8f82-70eb86b9a73f",
   "metadata": {},
   "outputs": [
    {
     "name": "stdout",
     "output_type": "stream",
     "text": [
      "Root Mean Squard Error:39.14396505209967\n"
     ]
    }
   ],
   "source": [
    "from sklearn.metrics import root_mean_squared_error\n",
    "rmse = root_mean_squared_error(y,y_pred)\n",
    "print(f\"Root Mean Squard Error:{rmse}\")"
   ]
  },
  {
   "cell_type": "markdown",
   "id": "a68761f4-3553-4c65-9ce1-3e74293f2e0c",
   "metadata": {},
   "source": [
    "### R squared"
   ]
  },
  {
   "cell_type": "code",
   "execution_count": 49,
   "id": "0580e75f-7347-4f1d-8678-b55e47c1dcad",
   "metadata": {},
   "outputs": [
    {
     "name": "stdout",
     "output_type": "stream",
     "text": [
      "R squared: -1.3578366941300932\n"
     ]
    }
   ],
   "source": [
    "from sklearn.metrics import r2_score\n",
    "r2 = r2_score(y,y_pred)\n",
    "print(f\"R squared: {r2}\")"
   ]
  },
  {
   "cell_type": "code",
   "execution_count": null,
   "id": "02cc35d0-512b-49e8-bd08-e9a62d75204d",
   "metadata": {},
   "outputs": [],
   "source": []
  }
 ],
 "metadata": {
  "kernelspec": {
   "display_name": "Python 3 (ipykernel)",
   "language": "python",
   "name": "python3"
  },
  "language_info": {
   "codemirror_mode": {
    "name": "ipython",
    "version": 3
   },
   "file_extension": ".py",
   "mimetype": "text/x-python",
   "name": "python",
   "nbconvert_exporter": "python",
   "pygments_lexer": "ipython3",
   "version": "3.12.4"
  }
 },
 "nbformat": 4,
 "nbformat_minor": 5
}
